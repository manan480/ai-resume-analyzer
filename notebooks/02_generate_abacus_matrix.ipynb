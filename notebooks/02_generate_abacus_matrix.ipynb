{
 "cells": [
  {
   "cell_type": "code",
   "execution_count": 1,
   "id": "3837588c",
   "metadata": {},
   "outputs": [],
   "source": [
    "import pandas as pd\n",
    "import numpy as np\n",
    "from sklearn.feature_extraction.text import TfidfVectorizer\n",
    "from tensorflow.keras.preprocessing.sequence import pad_sequences\n",
    "import pickle"
   ]
  },
  {
   "cell_type": "code",
   "execution_count": 2,
   "id": "1eee1bdf",
   "metadata": {},
   "outputs": [],
   "source": [
    "# Load cleaned resume/job descriptions\n",
    "df = pd.read_csv(\"../data/cleaned_fake_jobs.csv\")"
   ]
  },
  {
   "cell_type": "code",
   "execution_count": 3,
   "id": "cfee405c",
   "metadata": {},
   "outputs": [],
   "source": [
    "# Drop empty descriptions\n",
    "df = df.dropna(subset=[\"cleaned_desc\"])\n",
    "df = df[df[\"cleaned_desc\"].str.strip() != \"\"]\n",
    "df = df.reset_index(drop=True)\n"
   ]
  },
  {
   "cell_type": "code",
   "execution_count": 4,
   "id": "29ae1cf8",
   "metadata": {},
   "outputs": [],
   "source": [
    "texts = df[\"cleaned_desc\"].tolist()\n",
    "labels = df[\"fraudulent\"].tolist()"
   ]
  },
  {
   "cell_type": "code",
   "execution_count": 5,
   "id": "dc977695",
   "metadata": {},
   "outputs": [],
   "source": [
    "# TF-IDF Encoding (ABACUS)\n",
    "vectorizer = TfidfVectorizer(max_features=1000)\n",
    "X = vectorizer.fit_transform(texts).toarray()"
   ]
  },
  {
   "cell_type": "code",
   "execution_count": 6,
   "id": "accb9db7",
   "metadata": {},
   "outputs": [],
   "source": [
    "# Padding for fixed shape\n",
    "X_padded = pad_sequences(X, maxlen=250, padding=\"post\", truncating=\"post\")\n",
    "y = np.array(labels)\n"
   ]
  },
  {
   "cell_type": "code",
   "execution_count": 7,
   "id": "82f9e852",
   "metadata": {},
   "outputs": [],
   "source": [
    "# Check shape match\n",
    "assert X_padded.shape[0] == y.shape[0], \"Mismatch in input/output sizes!\""
   ]
  },
  {
   "cell_type": "code",
   "execution_count": 8,
   "id": "eef2619d",
   "metadata": {},
   "outputs": [],
   "source": [
    "# Save feature matrix and labels\n",
    "np.save(\"../data/abacus_features.npy\", X_padded)\n",
    "np.save(\"../data/abacus_labels.npy\", y)"
   ]
  },
  {
   "cell_type": "code",
   "execution_count": 9,
   "id": "bc2bd888",
   "metadata": {},
   "outputs": [
    {
     "name": "stdout",
     "output_type": "stream",
     "text": [
      "ABACUS matrix and tokenizer saved.\n"
     ]
    }
   ],
   "source": [
    "with open(\"../model/tokenizer.pkl\", \"wb\") as f:\n",
    "    pickle.dump(vectorizer, f)\n",
    "\n",
    "print(\"ABACUS matrix and tokenizer saved.\")"
   ]
  },
  {
   "cell_type": "code",
   "execution_count": null,
   "id": "e4aeb724",
   "metadata": {},
   "outputs": [],
   "source": []
  },
  {
   "cell_type": "code",
   "execution_count": null,
   "id": "ae3bf1fc",
   "metadata": {},
   "outputs": [],
   "source": []
  },
  {
   "cell_type": "code",
   "execution_count": null,
   "id": "dfa3ec1c",
   "metadata": {},
   "outputs": [],
   "source": []
  },
  {
   "cell_type": "code",
   "execution_count": null,
   "id": "733a0397",
   "metadata": {},
   "outputs": [],
   "source": []
  }
 ],
 "metadata": {
  "kernelspec": {
   "display_name": "base",
   "language": "python",
   "name": "python3"
  },
  "language_info": {
   "codemirror_mode": {
    "name": "ipython",
    "version": 3
   },
   "file_extension": ".py",
   "mimetype": "text/x-python",
   "name": "python",
   "nbconvert_exporter": "python",
   "pygments_lexer": "ipython3",
   "version": "3.12.4"
  }
 },
 "nbformat": 4,
 "nbformat_minor": 5
}

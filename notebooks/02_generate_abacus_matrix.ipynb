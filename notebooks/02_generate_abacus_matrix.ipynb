{
 "cells": [
  {
   "cell_type": "code",
   "execution_count": 28,
   "id": "5ec8c705",
   "metadata": {},
   "outputs": [],
   "source": [
    "import pandas as pd\n",
    "from sklearn.feature_extraction.text import TfidfVectorizer\n",
    "from tensorflow.keras.preprocessing.sequence import pad_sequences\n",
    "import numpy as np"
   ]
  },
  {
   "cell_type": "code",
   "execution_count": 29,
   "id": "266d8f9b",
   "metadata": {},
   "outputs": [],
   "source": [
    "df = pd.read_csv(\"../data/cleaned_fake_jobs.csv\")\n"
   ]
  },
  {
   "cell_type": "code",
   "execution_count": 30,
   "id": "8e315472",
   "metadata": {},
   "outputs": [
    {
     "name": "stdout",
     "output_type": "stream",
     "text": [
      "(17880, 2)\n"
     ]
    },
    {
     "data": {
      "text/html": [
       "<div>\n",
       "<style scoped>\n",
       "    .dataframe tbody tr th:only-of-type {\n",
       "        vertical-align: middle;\n",
       "    }\n",
       "\n",
       "    .dataframe tbody tr th {\n",
       "        vertical-align: top;\n",
       "    }\n",
       "\n",
       "    .dataframe thead th {\n",
       "        text-align: right;\n",
       "    }\n",
       "</style>\n",
       "<table border=\"1\" class=\"dataframe\">\n",
       "  <thead>\n",
       "    <tr style=\"text-align: right;\">\n",
       "      <th></th>\n",
       "      <th>cleaned_desc</th>\n",
       "      <th>fraudulent</th>\n",
       "    </tr>\n",
       "  </thead>\n",
       "  <tbody>\n",
       "    <tr>\n",
       "      <th>0</th>\n",
       "      <td>foodafastgrowingjamesbeardawardwinningonlinefo...</td>\n",
       "      <td>0</td>\n",
       "    </tr>\n",
       "    <tr>\n",
       "      <th>1</th>\n",
       "      <td>organisedfocusedvibrantawesomedoyouhaveapassio...</td>\n",
       "      <td>0</td>\n",
       "    </tr>\n",
       "    <tr>\n",
       "      <th>2</th>\n",
       "      <td>ourclientlocatedinhoustonisactivelyseekinganex...</td>\n",
       "      <td>0</td>\n",
       "    </tr>\n",
       "    <tr>\n",
       "      <th>3</th>\n",
       "      <td>thecompanyesrienvironmentalsystemsresearchinst...</td>\n",
       "      <td>0</td>\n",
       "    </tr>\n",
       "    <tr>\n",
       "      <th>4</th>\n",
       "      <td>jobtitleitemizationreviewmanagerlocationfortwo...</td>\n",
       "      <td>0</td>\n",
       "    </tr>\n",
       "  </tbody>\n",
       "</table>\n",
       "</div>"
      ],
      "text/plain": [
       "                                        cleaned_desc  fraudulent\n",
       "0  foodafastgrowingjamesbeardawardwinningonlinefo...           0\n",
       "1  organisedfocusedvibrantawesomedoyouhaveapassio...           0\n",
       "2  ourclientlocatedinhoustonisactivelyseekinganex...           0\n",
       "3  thecompanyesrienvironmentalsystemsresearchinst...           0\n",
       "4  jobtitleitemizationreviewmanagerlocationfortwo...           0"
      ]
     },
     "execution_count": 30,
     "metadata": {},
     "output_type": "execute_result"
    }
   ],
   "source": [
    "print(df.shape)\n",
    "df.head()"
   ]
  },
  {
   "cell_type": "code",
   "execution_count": 31,
   "id": "fb3d3c1e",
   "metadata": {},
   "outputs": [],
   "source": [
    "df = df.dropna(subset=['cleaned_desc'])"
   ]
  },
  {
   "cell_type": "code",
   "execution_count": 32,
   "id": "77c889ef",
   "metadata": {},
   "outputs": [],
   "source": [
    "df = df[df['cleaned_desc'].str.strip() != '']"
   ]
  },
  {
   "cell_type": "code",
   "execution_count": 33,
   "id": "0516048d",
   "metadata": {},
   "outputs": [],
   "source": [
    "df = df.reset_index(drop=True)"
   ]
  },
  {
   "cell_type": "code",
   "execution_count": 34,
   "id": "330e9775",
   "metadata": {},
   "outputs": [],
   "source": [
    "texts = df['cleaned_desc'].tolist()\n",
    "labels = df['fraudulent'].tolist()"
   ]
  },
  {
   "cell_type": "code",
   "execution_count": 35,
   "id": "3972c275",
   "metadata": {},
   "outputs": [],
   "source": [
    "vectorizer = TfidfVectorizer(max_features=1000)\n",
    "X = vectorizer.fit_transform(texts).toarray()"
   ]
  },
  {
   "cell_type": "code",
   "execution_count": 36,
   "id": "edcfbab5",
   "metadata": {},
   "outputs": [],
   "source": [
    "X_padded = pad_sequences(X, maxlen=250, padding='post', truncating='post')"
   ]
  },
  {
   "cell_type": "code",
   "execution_count": null,
   "id": "301efef3",
   "metadata": {},
   "outputs": [],
   "source": [
    "y = np.array(labels)"
   ]
  },
  {
   "cell_type": "code",
   "execution_count": 38,
   "id": "fbbe6d91",
   "metadata": {},
   "outputs": [],
   "source": [
    "assert X_padded.shape[0] == y.shape[0], f\"Mismatch: X={X_padded.shape}, y={y.shape}\""
   ]
  },
  {
   "cell_type": "code",
   "execution_count": 39,
   "id": "85232db4",
   "metadata": {},
   "outputs": [
    {
     "name": "stdout",
     "output_type": "stream",
     "text": [
      " Saved ABACUS input matrix and labels.\n"
     ]
    }
   ],
   "source": [
    "np.save(\"../data/abacus_features.npy\", X_padded)\n",
    "np.save(\"../data/abacus_labels.npy\", y)\n",
    "\n",
    "print(\" Saved ABACUS input matrix and labels.\")"
   ]
  },
  {
   "cell_type": "code",
   "execution_count": 40,
   "id": "69b56ac1",
   "metadata": {},
   "outputs": [
    {
     "name": "stdout",
     "output_type": "stream",
     "text": [
      "ABACUS matrix and labels saved with matching shapes: (17878, 250) (17878,)\n"
     ]
    }
   ],
   "source": [
    "print(\"ABACUS matrix and labels saved with matching shapes:\", X_padded.shape, y.shape)"
   ]
  },
  {
   "cell_type": "code",
   "execution_count": 1,
   "id": "59d81784",
   "metadata": {},
   "outputs": [
    {
     "name": "stdout",
     "output_type": "stream",
     "text": [
      " Cleaned, aligned, and saved. Shape: (17878, 250) (17878,)\n"
     ]
    }
   ],
   "source": [
    "import pandas as pd\n",
    "import numpy as np\n",
    "from sklearn.feature_extraction.text import TfidfVectorizer\n",
    "from tensorflow.keras.preprocessing.sequence import pad_sequences\n",
    "\n",
    "# Step 1: Load the full original dataset again\n",
    "df = pd.read_csv(\"../data/fake_jobs.csv\")  # go back to raw file to re-clean\n",
    "\n",
    "# Step 2: Clean the 'description' column manually here\n",
    "df = df.dropna(subset=['description', 'fraudulent'])  # drop rows with missing desc or labels\n",
    "df['description'] = df['description'].astype(str)\n",
    "df['description'] = df['description'].apply(lambda x: x.strip().lower())\n",
    "df = df[df['description'] != \"\"]  # remove blanks\n",
    "\n",
    "# Step 3: Reset index (VERY important for alignment)\n",
    "df = df.reset_index(drop=True)\n",
    "\n",
    "# Step 4: Vectorize the cleaned descriptions\n",
    "texts = df['description'].tolist()\n",
    "labels = df['fraudulent'].tolist()\n",
    "\n",
    "vectorizer = TfidfVectorizer(max_features=1000)\n",
    "X = vectorizer.fit_transform(texts).toarray()\n",
    "X_padded = pad_sequences(X, maxlen=250, padding='post', truncating='post')\n",
    "y = np.array(labels)\n",
    "\n",
    "# Step 5: Check and save only if they match\n",
    "assert X_padded.shape[0] == y.shape[0], f\"X rows: {X_padded.shape[0]}, y rows: {y.shape[0]}\"\n",
    "\n",
    "# Step 6: Save cleaned versions\n",
    "np.save(\"../data/abacus_features.npy\", X_padded)\n",
    "np.save(\"../data/abacus_labels.npy\", y)\n",
    "\n",
    "print(\" Cleaned, aligned, and saved. Shape:\", X_padded.shape, y.shape)\n"
   ]
  },
  {
   "cell_type": "code",
   "execution_count": null,
   "id": "7d6f8937",
   "metadata": {},
   "outputs": [],
   "source": []
  }
 ],
 "metadata": {
  "kernelspec": {
   "display_name": "base",
   "language": "python",
   "name": "python3"
  },
  "language_info": {
   "codemirror_mode": {
    "name": "ipython",
    "version": 3
   },
   "file_extension": ".py",
   "mimetype": "text/x-python",
   "name": "python",
   "nbconvert_exporter": "python",
   "pygments_lexer": "ipython3",
   "version": "3.12.4"
  }
 },
 "nbformat": 4,
 "nbformat_minor": 5
}

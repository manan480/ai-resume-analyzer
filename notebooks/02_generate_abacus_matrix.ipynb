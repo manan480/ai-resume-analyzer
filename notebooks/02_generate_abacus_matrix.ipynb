{
 "cells": [
  {
   "cell_type": "code",
   "execution_count": 3,
   "id": "5ec8c705",
   "metadata": {},
   "outputs": [],
   "source": [
    "import pandas as pd\n",
    "from sklearn.feature_extraction.text import TfidfVectorizer\n",
    "from tensorflow.keras.preprocessing.sequence import pad_sequences\n",
    "import numpy as np"
   ]
  },
  {
   "cell_type": "code",
   "execution_count": 4,
   "id": "266d8f9b",
   "metadata": {},
   "outputs": [],
   "source": [
    "df = pd.read_csv(\"../data/cleaned_fake_jobs.csv\")\n"
   ]
  },
  {
   "cell_type": "code",
   "execution_count": 5,
   "id": "8e315472",
   "metadata": {},
   "outputs": [
    {
     "name": "stdout",
     "output_type": "stream",
     "text": [
      "(17880, 2)\n"
     ]
    },
    {
     "data": {
      "text/html": [
       "<div>\n",
       "<style scoped>\n",
       "    .dataframe tbody tr th:only-of-type {\n",
       "        vertical-align: middle;\n",
       "    }\n",
       "\n",
       "    .dataframe tbody tr th {\n",
       "        vertical-align: top;\n",
       "    }\n",
       "\n",
       "    .dataframe thead th {\n",
       "        text-align: right;\n",
       "    }\n",
       "</style>\n",
       "<table border=\"1\" class=\"dataframe\">\n",
       "  <thead>\n",
       "    <tr style=\"text-align: right;\">\n",
       "      <th></th>\n",
       "      <th>cleaned_desc</th>\n",
       "      <th>fraudulent</th>\n",
       "    </tr>\n",
       "  </thead>\n",
       "  <tbody>\n",
       "    <tr>\n",
       "      <th>0</th>\n",
       "      <td>foodafastgrowingjamesbeardawardwinningonlinefo...</td>\n",
       "      <td>0</td>\n",
       "    </tr>\n",
       "    <tr>\n",
       "      <th>1</th>\n",
       "      <td>organisedfocusedvibrantawesomedoyouhaveapassio...</td>\n",
       "      <td>0</td>\n",
       "    </tr>\n",
       "    <tr>\n",
       "      <th>2</th>\n",
       "      <td>ourclientlocatedinhoustonisactivelyseekinganex...</td>\n",
       "      <td>0</td>\n",
       "    </tr>\n",
       "    <tr>\n",
       "      <th>3</th>\n",
       "      <td>thecompanyesrienvironmentalsystemsresearchinst...</td>\n",
       "      <td>0</td>\n",
       "    </tr>\n",
       "    <tr>\n",
       "      <th>4</th>\n",
       "      <td>jobtitleitemizationreviewmanagerlocationfortwo...</td>\n",
       "      <td>0</td>\n",
       "    </tr>\n",
       "  </tbody>\n",
       "</table>\n",
       "</div>"
      ],
      "text/plain": [
       "                                        cleaned_desc  fraudulent\n",
       "0  foodafastgrowingjamesbeardawardwinningonlinefo...           0\n",
       "1  organisedfocusedvibrantawesomedoyouhaveapassio...           0\n",
       "2  ourclientlocatedinhoustonisactivelyseekinganex...           0\n",
       "3  thecompanyesrienvironmentalsystemsresearchinst...           0\n",
       "4  jobtitleitemizationreviewmanagerlocationfortwo...           0"
      ]
     },
     "execution_count": 5,
     "metadata": {},
     "output_type": "execute_result"
    }
   ],
   "source": [
    "print(df.shape)\n",
    "df.head()"
   ]
  },
  {
   "cell_type": "code",
   "execution_count": 6,
   "id": "fb3d3c1e",
   "metadata": {},
   "outputs": [],
   "source": [
    "df = df.dropna(subset=['cleaned_desc'])"
   ]
  },
  {
   "cell_type": "code",
   "execution_count": 7,
   "id": "77c889ef",
   "metadata": {},
   "outputs": [],
   "source": [
    "df = df[df['cleaned_desc'].str.strip() != '']"
   ]
  },
  {
   "cell_type": "code",
   "execution_count": 8,
   "id": "0516048d",
   "metadata": {},
   "outputs": [],
   "source": [
    "df = df.reset_index(drop=True)"
   ]
  },
  {
   "cell_type": "code",
   "execution_count": 9,
   "id": "330e9775",
   "metadata": {},
   "outputs": [],
   "source": [
    "texts = df['cleaned_desc'].tolist()\n",
    "labels = df['fraudulent'].tolist()"
   ]
  },
  {
   "cell_type": "code",
   "execution_count": 10,
   "id": "3972c275",
   "metadata": {},
   "outputs": [],
   "source": [
    "vectorizer = TfidfVectorizer(max_features=1000)\n",
    "X = vectorizer.fit_transform(texts).toarray()"
   ]
  },
  {
   "cell_type": "code",
   "execution_count": 11,
   "id": "edcfbab5",
   "metadata": {},
   "outputs": [],
   "source": [
    "X_padded = pad_sequences(X, maxlen=250, padding='post', truncating='post')"
   ]
  },
  {
   "cell_type": "code",
   "execution_count": 12,
   "id": "301efef3",
   "metadata": {},
   "outputs": [],
   "source": [
    "y = np.array(labels)"
   ]
  },
  {
   "cell_type": "code",
   "execution_count": 13,
   "id": "fbbe6d91",
   "metadata": {},
   "outputs": [],
   "source": [
    "assert X_padded.shape[0] == y.shape[0], f\"Mismatch: X={X_padded.shape}, y={y.shape}\""
   ]
  },
  {
   "cell_type": "code",
   "execution_count": 14,
   "id": "85232db4",
   "metadata": {},
   "outputs": [
    {
     "name": "stdout",
     "output_type": "stream",
     "text": [
      " Saved ABACUS input matrix and labels.\n"
     ]
    }
   ],
   "source": [
    "np.save(\"../data/abacus_features.npy\", X_padded)\n",
    "np.save(\"../data/abacus_labels.npy\", y)\n",
    "\n",
    "print(\" Saved ABACUS input matrix and labels.\")"
   ]
  },
  {
   "cell_type": "code",
   "execution_count": 15,
   "id": "69b56ac1",
   "metadata": {},
   "outputs": [
    {
     "name": "stdout",
     "output_type": "stream",
     "text": [
      "ABACUS matrix and labels saved with matching shapes: (17878, 250) (17878,)\n"
     ]
    }
   ],
   "source": [
    "print(\"ABACUS matrix and labels saved with matching shapes:\", X_padded.shape, y.shape)"
   ]
  },
  {
   "cell_type": "code",
   "execution_count": 16,
   "id": "7d6f8937",
   "metadata": {},
   "outputs": [
    {
     "name": "stdout",
     "output_type": "stream",
     "text": [
      "Tokenizer (TF-IDF vectorizer) saved at model/tokenizer.pkl\n"
     ]
    }
   ],
   "source": [
    "import pickle\n",
    "\n",
    "# Save the TF-IDF tokenizer (vectorizer)\n",
    "with open(\"../model/tokenizer.pkl\", \"wb\") as f:\n",
    "    pickle.dump(vectorizer, f)\n",
    "\n",
    "print(\"Tokenizer (TF-IDF vectorizer) saved at model/tokenizer.pkl\")\n"
   ]
  },
  {
   "cell_type": "code",
   "execution_count": 17,
   "id": "42043173",
   "metadata": {},
   "outputs": [
    {
     "name": "stdout",
     "output_type": "stream",
     "text": [
      "Original shape: (17880, 2)\n",
      "Cleaned shape: (17878, 2)\n",
      "✅ ABACUS matrix and labels saved.\n",
      "✅ Tokenizer saved as tokenizer.pkl.\n",
      "📐 X shape: (17878, 250) | y shape: (17878,)\n"
     ]
    }
   ],
   "source": [
    "# 02_generate_abacus_matrix.ipynb\n",
    "\n",
    "import pandas as pd\n",
    "import numpy as np\n",
    "from sklearn.feature_extraction.text import TfidfVectorizer\n",
    "from tensorflow.keras.preprocessing.sequence import pad_sequences\n",
    "import os\n",
    "import pickle\n",
    "\n",
    "# Load cleaned data\n",
    "df = pd.read_csv(\"../data/cleaned_fake_jobs.csv\")\n",
    "print(\"Original shape:\", df.shape)\n",
    "\n",
    "# Drop missing or empty resumes\n",
    "df = df.dropna(subset=['cleaned_desc'])\n",
    "df = df[df['cleaned_desc'].str.strip() != '']\n",
    "df = df.reset_index(drop=True)\n",
    "print(\"Cleaned shape:\", df.shape)\n",
    "\n",
    "# Extract text and labels\n",
    "texts = df['cleaned_desc'].tolist()\n",
    "labels = df['fraudulent'].tolist()\n",
    "\n",
    "# Convert to TF-IDF features\n",
    "vectorizer = TfidfVectorizer(max_features=1000)\n",
    "X = vectorizer.fit_transform(texts).toarray()\n",
    "\n",
    "# Pad to shape (num_samples, 250)\n",
    "X_padded = pad_sequences(X, maxlen=250, padding='post', truncating='post')\n",
    "\n",
    "# Save arrays\n",
    "y = np.array(labels)\n",
    "assert X_padded.shape[0] == y.shape[0], \"Shape mismatch between X and y\"\n",
    "\n",
    "os.makedirs(\"../data\", exist_ok=True)\n",
    "np.save(\"../data/abacus_features.npy\", X_padded)\n",
    "np.save(\"../data/abacus_labels.npy\", y)\n",
    "\n",
    "# Save the TF-IDF vectorizer for later use\n",
    "os.makedirs(\"../model\", exist_ok=True)\n",
    "with open(\"../model/tokenizer.pkl\", \"wb\") as f:\n",
    "    pickle.dump(vectorizer, f)\n",
    "\n",
    "print(\"✅ ABACUS matrix and labels saved.\")\n",
    "print(\"✅ Tokenizer saved as tokenizer.pkl.\")\n",
    "print(\"📐 X shape:\", X_padded.shape, \"| y shape:\", y.shape)\n"
   ]
  },
  {
   "cell_type": "code",
   "execution_count": null,
   "id": "936c3f57",
   "metadata": {},
   "outputs": [],
   "source": []
  }
 ],
 "metadata": {
  "kernelspec": {
   "display_name": "base",
   "language": "python",
   "name": "python3"
  },
  "language_info": {
   "codemirror_mode": {
    "name": "ipython",
    "version": 3
   },
   "file_extension": ".py",
   "mimetype": "text/x-python",
   "name": "python",
   "nbconvert_exporter": "python",
   "pygments_lexer": "ipython3",
   "version": "3.12.4"
  }
 },
 "nbformat": 4,
 "nbformat_minor": 5
}
